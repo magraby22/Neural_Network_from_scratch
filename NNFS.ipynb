{
 "cells": [
  {
   "cell_type": "markdown",
   "id": "e4e48bf0-b698-4983-b374-4bc85bb4693e",
   "metadata": {},
   "source": [
    "# Nueral Network From Scratch\r\n"
   ]
  },
  {
   "cell_type": "markdown",
   "id": "1f5e9fe1-ad06-44a2-b7f8-25260933a24c",
   "metadata": {},
   "source": [
    "## Simple Nueron"
   ]
  },
  {
   "cell_type": "code",
   "execution_count": 2,
   "id": "896328a6-07c1-45f9-9277-62e7ea614ce2",
   "metadata": {},
   "outputs": [],
   "source": [
    "inputs = [1 , 2 , 3]\n",
    "weight = [.2 , .8 , -.5]\n",
    "bias = 2"
   ]
  },
  {
   "cell_type": "code",
   "execution_count": 3,
   "id": "ae1a45fd-91e9-41e0-a50e-f8ed8fcd4a97",
   "metadata": {},
   "outputs": [],
   "source": [
    "output = inputs[0]*weight[0] + inputs[1]*weight[1]+inputs[2]*weight[2] + bias "
   ]
  },
  {
   "cell_type": "code",
   "execution_count": 4,
   "id": "cb33da95-7d30-4345-941c-a511b7be0743",
   "metadata": {},
   "outputs": [
    {
     "name": "stdout",
     "output_type": "stream",
     "text": [
      "2.3\n"
     ]
    }
   ],
   "source": [
    "print(output)"
   ]
  },
  {
   "cell_type": "markdown",
   "id": "82dbf878-5a46-4f70-ac97-a2155ca3590a",
   "metadata": {},
   "source": [
    "## layer of nueron\n"
   ]
  },
  {
   "cell_type": "code",
   "execution_count": 5,
   "id": "5d9a4e46-d39b-4829-810a-466e21970d78",
   "metadata": {},
   "outputs": [],
   "source": [
    "inputs = [1, 2, 3, 2.5] \n",
    " \n",
    "weights1 = [0.2, 0.8, -0.5, 1] \n",
    "weights2 = [0.5, -0.91, 0.26, -0.5] \n",
    "weights3 = [-0.26, -0.27, 0.17, 0.87] \n",
    " \n",
    "b1 = 2 \n",
    "b2 = 3 \n",
    "b3 = 0.5 "
   ]
  },
  {
   "cell_type": "code",
   "execution_count": 6,
   "id": "3a9f629f-1e8d-49c8-bc6b-21d77034d0a0",
   "metadata": {},
   "outputs": [],
   "source": [
    "outputs = [ \n",
    "        # Neuron 1: \n",
    "        inputs[0]*weights1[0] + \n",
    "        inputs[1]*weights1[1] + \n",
    "        inputs[2]*weights1[2] + \n",
    "        inputs[3]*weights1[3] + b1, \n",
    " \n",
    "        # Neuron 2: \n",
    "        inputs[0]*weights2[0] + \n",
    "        inputs[1]*weights2[1] + \n",
    "        inputs[2]*weights2[2] + \n",
    "        inputs[3]*weights2[3] + b2, \n",
    " \n",
    "        # Neuron 3: \n",
    "        inputs[0]*weights3[0] + \n",
    "        inputs[1]*weights3[1] + \n",
    "        inputs[2]*weights3[2] + \n",
    "        inputs[3]*weights3[3] + b3] "
   ]
  },
  {
   "cell_type": "code",
   "execution_count": 7,
   "id": "f82096dc-b100-4348-a83a-003030c7e09a",
   "metadata": {},
   "outputs": [
    {
     "name": "stdout",
     "output_type": "stream",
     "text": [
      "[4.8, 1.21, 2.385]\n"
     ]
    }
   ],
   "source": [
    "print(outputs)"
   ]
  },
  {
   "cell_type": "markdown",
   "id": "501c1672-2076-4ae0-9fd0-d8745262a34f",
   "metadata": {},
   "source": [
    "## Single Neuron with numpy"
   ]
  },
  {
   "cell_type": "code",
   "execution_count": 8,
   "id": "fdc89d86-573b-4c1d-9958-ecac3b30705e",
   "metadata": {},
   "outputs": [],
   "source": [
    "import numpy as np\n",
    "inputs = [1 , 2 , 3]\n",
    "weight = [.2 , .8 , -.5]\n",
    "bias = 2"
   ]
  },
  {
   "cell_type": "code",
   "execution_count": 9,
   "id": "41cc7b14-c858-4794-8e9f-1c80601c2f73",
   "metadata": {},
   "outputs": [],
   "source": [
    "output = np.dot(inputs,weight) + bias"
   ]
  },
  {
   "cell_type": "code",
   "execution_count": 10,
   "id": "00dbd0e0-4d83-4cf2-bf79-9f07e9da041a",
   "metadata": {},
   "outputs": [
    {
     "name": "stdout",
     "output_type": "stream",
     "text": [
      "2.3\n"
     ]
    }
   ],
   "source": [
    "print (output)"
   ]
  },
  {
   "cell_type": "markdown",
   "id": "9720f1ae-b8c4-479e-964b-485f6b75594d",
   "metadata": {},
   "source": [
    "## layer of neuron with numpy"
   ]
  },
  {
   "cell_type": "code",
   "execution_count": 11,
   "id": "bba3c8d9-2098-45e3-bf83-8b9a2ddebde6",
   "metadata": {},
   "outputs": [],
   "source": [
    "inputs = [1, 2, 3, 2.5]\n",
    "weights = [[0.2, 0.8, -0.5, 1] ,\n",
    "           [0.5, -0.91, 0.26, -0.5] ,\n",
    "           [-0.26, -0.27, 0.17, 0.87]]\n",
    "b = [2 , 3 , .5]"
   ]
  },
  {
   "cell_type": "code",
   "execution_count": 12,
   "id": "68fcbe77-9260-4a4b-a167-f7185b9a264a",
   "metadata": {},
   "outputs": [],
   "source": [
    "output=np.dot(weights,inputs)+b"
   ]
  },
  {
   "cell_type": "code",
   "execution_count": 13,
   "id": "64fd9c8a-3f81-4c8e-8aaa-51443be59803",
   "metadata": {},
   "outputs": [
    {
     "name": "stdout",
     "output_type": "stream",
     "text": [
      "[4.8   1.21  2.385]\n"
     ]
    }
   ],
   "source": [
    "print(output)"
   ]
  },
  {
   "cell_type": "code",
   "execution_count": 14,
   "id": "6b2a9d5b-2f7f-48fc-8cb9-7736b16cf059",
   "metadata": {},
   "outputs": [
    {
     "data": {
      "text/plain": [
       "array([[1, 2, 3]])"
      ]
     },
     "execution_count": 14,
     "metadata": {},
     "output_type": "execute_result"
    }
   ],
   "source": [
    "a = [1, 2, 3] \n",
    "np.array([a]) "
   ]
  },
  {
   "cell_type": "code",
   "execution_count": 15,
   "id": "353d8f29-029c-4f35-8849-34a3fa1d90a4",
   "metadata": {},
   "outputs": [
    {
     "name": "stdout",
     "output_type": "stream",
     "text": [
      "[[1 2 3]]\n"
     ]
    }
   ],
   "source": [
    "print(np.expand_dims(np.array(a),axis=0))"
   ]
  },
  {
   "cell_type": "markdown",
   "id": "3dc08271-88a4-4c48-9236-36263862136e",
   "metadata": {},
   "source": [
    "## 2 Layers of Nueron"
   ]
  },
  {
   "cell_type": "code",
   "execution_count": 16,
   "id": "c88cac85-e43b-40b0-b02a-fbf7bddf289f",
   "metadata": {},
   "outputs": [],
   "source": [
    "inputs = [[1, 2, 3, 2.5], [2., 5., -1., 2], [-1.5, 2.7, 3.3, -0.8]] \n",
    "weights = [[0.2, 0.8, -0.5, 1], \n",
    "           [0.5, -0.91, 0.26, -0.5], \n",
    "           [-0.26, -0.27, 0.17, 0.87]] \n",
    "biases = [2, 3, 0.5] \n",
    "weights2 = [[0.1, -0.14, 0.5], \n",
    "            [-0.5, 0.12, -0.33], \n",
    "            [-0.44, 0.73, -0.13]] \n",
    "biases2 = [-1, 2, -0.5]\n"
   ]
  },
  {
   "cell_type": "code",
   "execution_count": 17,
   "id": "2f7a8b76-a907-4847-8579-7cd1abc3de1f",
   "metadata": {},
   "outputs": [],
   "source": [
    "layer1_output = np.dot(inputs,np.array(weights).T)+biases"
   ]
  },
  {
   "cell_type": "code",
   "execution_count": 18,
   "id": "5b42d164-bf64-4a75-9044-0348344e7e3c",
   "metadata": {},
   "outputs": [],
   "source": [
    "layer2_output = np.dot(layer1_output,np.array(weights2).T)+biases2"
   ]
  },
  {
   "cell_type": "code",
   "execution_count": 19,
   "id": "bb5e3baf-886f-47f9-8c80-e70e0a2e2e01",
   "metadata": {},
   "outputs": [
    {
     "name": "stdout",
     "output_type": "stream",
     "text": [
      "[[ 0.5031  -1.04185 -2.03875]\n",
      " [ 0.2434  -2.7332  -5.7633 ]\n",
      " [-0.99314  1.41254 -0.35655]]\n"
     ]
    }
   ],
   "source": [
    "print(layer2_output)"
   ]
  },
  {
   "cell_type": "markdown",
   "id": "894d5546-85a7-4ce1-93be-b3dbffdb1520",
   "metadata": {},
   "source": [
    "## Dence layer with forward path"
   ]
  },
  {
   "cell_type": "code",
   "execution_count": 56,
   "id": "9a88d5b2-5a5f-4ee1-8cce-6afbb2575f1b",
   "metadata": {},
   "outputs": [],
   "source": [
    "class layer_dense:\n",
    "    def __init__(self,n_inputs,n_neurons):\n",
    "        self.weight=0.01 * np.random.randn(n_inputs, n_neurons)\n",
    "        self.biases= np.zeros((1,n_neurons))\n",
    "\n",
    "    def forward(self, inputs):\n",
    "        self.output = np.dot(inputs,self.weight)+self.biases"
   ]
  },
  {
   "cell_type": "code",
   "execution_count": 57,
   "id": "d1b8f620-0fe5-4108-a04a-b3c713a80c1a",
   "metadata": {},
   "outputs": [],
   "source": [
    "import nnfs \n",
    "from nnfs.datasets import spiral_data\n",
    "x,y = spiral_data(samples = 100 , classes = 3)"
   ]
  },
  {
   "cell_type": "code",
   "execution_count": 58,
   "id": "ce2da9e7-0bba-4407-97a9-9a01378dda21",
   "metadata": {},
   "outputs": [],
   "source": [
    "dense1= layer_dense(2,3)\n",
    "dense1.forward(x)"
   ]
  },
  {
   "cell_type": "code",
   "execution_count": 59,
   "id": "e5ce769e-a64f-4e81-b41a-96c457c9c0ac",
   "metadata": {},
   "outputs": [
    {
     "name": "stdout",
     "output_type": "stream",
     "text": [
      "[[0.00000000e+00 0.00000000e+00 0.00000000e+00]\n",
      " [5.59338263e-05 1.72752182e-05 5.34774791e-05]\n",
      " [1.39686329e-04 3.08581083e-05 9.30183788e-05]\n",
      " [1.47555748e-04 5.38950809e-05 1.68536737e-04]\n",
      " [3.58486035e-04 4.52516832e-05 1.26723588e-04]]\n"
     ]
    }
   ],
   "source": [
    "print(dense1.output[:5]) "
   ]
  },
  {
   "cell_type": "markdown",
   "id": "6f3d8515-f328-4a2a-8de7-0cc06e926f57",
   "metadata": {},
   "source": [
    "## Relu activation function"
   ]
  },
  {
   "cell_type": "code",
   "execution_count": 1,
   "id": "29e7aa5e-6a06-4d5c-8ca3-09da6e3ec3ba",
   "metadata": {},
   "outputs": [],
   "source": [
    "class activation_relu :\n",
    "    def forward(self,inputs):\n",
    "        self.output = np.maximum(0,inputs)"
   ]
  },
  {
   "cell_type": "code",
   "execution_count": null,
   "id": "96c032bc-6348-4170-b485-df0997ead90a",
   "metadata": {},
   "outputs": [],
   "source": []
  },
  {
   "cell_type": "code",
   "execution_count": null,
   "id": "e9a68794-cf7f-4031-acc8-8da7a9fe4d68",
   "metadata": {},
   "outputs": [],
   "source": []
  },
  {
   "cell_type": "code",
   "execution_count": null,
   "id": "a164308d-5b94-46db-b425-b0ff1a3bce46",
   "metadata": {},
   "outputs": [],
   "source": []
  },
  {
   "cell_type": "code",
   "execution_count": null,
   "id": "b19c5ed0-27ed-43e9-b5ac-2ddc89648e97",
   "metadata": {},
   "outputs": [],
   "source": []
  },
  {
   "cell_type": "code",
   "execution_count": null,
   "id": "154fd1c6-a166-4d28-92b3-68b80b6206b6",
   "metadata": {},
   "outputs": [],
   "source": []
  },
  {
   "cell_type": "code",
   "execution_count": null,
   "id": "4b8d9b66-2fa8-47cc-a033-0bcd4bc715ca",
   "metadata": {},
   "outputs": [],
   "source": []
  }
 ],
 "metadata": {
  "kernelspec": {
   "display_name": "Python 3 (ipykernel)",
   "language": "python",
   "name": "python3"
  },
  "language_info": {
   "codemirror_mode": {
    "name": "ipython",
    "version": 3
   },
   "file_extension": ".py",
   "mimetype": "text/x-python",
   "name": "python",
   "nbconvert_exporter": "python",
   "pygments_lexer": "ipython3",
   "version": "3.12.4"
  }
 },
 "nbformat": 4,
 "nbformat_minor": 5
}
